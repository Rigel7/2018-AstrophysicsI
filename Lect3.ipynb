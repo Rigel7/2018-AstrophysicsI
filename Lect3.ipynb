{
 "cells": [
  {
   "cell_type": "markdown",
   "metadata": {},
   "source": [
    "Exec 3.4.a\n",
    "\n",
    "From (3.19):$$\\frac{dP(r)}{dr}=-\\frac{GM(r)\\rho(r)}{r^2}$$\n",
    "\n",
    "The density is constant, so:\n",
    "\n",
    "$$M(r)=\\frac{4}{3}\\pi r^3\\rho$$\n",
    "\n",
    "$$\\frac{dP(r)}{dr}=-\\frac{4\\pi Gr\\rho^2}{3}$$\n",
    "\n",
    "The equation is very easy to solve. \n",
    "\n",
    "$$dP(r)=-\\frac{4\\pi G\\rho^2}{3}rdr$$\n",
    "$$\\int^{r}_{0}dP(r)=\\int^{r}_{0}-\\frac{4\\pi G\\rho^2}{3}rdr$$\n",
    "$$P(r)=-\\frac{2\\pi G\\rho^2}{3}r^2+C$$\n",
    "\n",
    "And the boundary condition $P(R)=0$,\n",
    "$$P(r)=\\frac{2\\pi G\\rho^2}{3}(R^2-r^2)$$"
   ]
  },
  {
   "cell_type": "markdown",
   "metadata": {},
   "source": [
    "Exec 3.4.b\n",
    "\n",
    "Use ideal gas law:\n",
    "\n",
    "$$P(r)=\\rho\\frac{R_i}{M}T(r)$$\n",
    "Where $R_i$ is the ideal gas constant, $M$ is molar mass, and $M=1$g/mol.\n",
    "$$T(r)=\\frac{2\\pi G\\rho}{3R_i}(R^2-r^2)$$"
   ]
  },
  {
   "cell_type": "markdown",
   "metadata": {},
   "source": [
    "Exec 3.4.c\n",
    "\n",
    "$\\epsilon\\sim T^4$,if $\\epsilon(r)=0.1\\epsilon(0)$,\n",
    "$$T(r)=\\sqrt[4]{0.1}T(0)$$\n",
    "$$r\\approx0.662R$$\n",
    "\n",
    "The ratio of volume included:\n",
    "\n",
    "$$\\frac{V_r}{V_R}=(\\frac{r}{R})^3\\approx28.95\\%$$"
   ]
  },
  {
   "cell_type": "markdown",
   "metadata": {},
   "source": [
    "Exec 3.6.a\n",
    "\n",
    "For fully ionized C12, there are 6 electrons for each C12 molecule, so\n",
    "$$\\bar m=\\frac{m_e+12m_p}{7}=\\frac{12}{7}$$"
   ]
  },
  {
   "cell_type": "markdown",
   "metadata": {},
   "source": [
    "Exec 3.6.b\n",
    "\n",
    "$$\\bar P=-\\frac{1}{3}\\frac{E_{gr}}{V}$$\n",
    "$$n=\\frac{\\rho}{\\bar m}$$\n",
    "$$PV=nkT=\\frac{\\rho}{\\bar m}kT$$\n",
    "$$\\rho=\\frac{M}{V}$$\n",
    "$$E_{gr}\\sim\\frac{GM^2}{R}$$\n",
    "So,\n",
    "$$\\frac{P}{P_\\odot}=\\frac{\\rho T\\bar m_\\odot}{\\rho_\\odot T_\\odot\\bar m}=\\frac{MT\\bar m_\\odot R_\\odot^3}{M_\\odot T_\\odot \\bar m R^3}$$\n",
    "$$\\frac{MT\\bar m_\\odot R_\\odot^3}{M_\\odot T_\\odot \\bar m R^3}=\\frac{M^2R_\\odot}{M_\\odot^2R}\\frac{R^3}{R_\\odot^3}$$\n",
    "$$\\frac{R^5}{R_\\odot^5}=\\frac{M_\\odot T\\bar m_\\odot}{MT_\\odot\\bar m}$$\n",
    "$$R\\approx0.7R_\\odot$$"
   ]
  },
  {
   "cell_type": "markdown",
   "metadata": {},
   "source": [
    "Exec 3.6.c\n",
    "\n",
    "$$L=4\\pi R^2 aT^4$$\n",
    "$$\\frac{T^4}{T_\\odot^4}=\\frac{R_\\odot^2L}{R^2L_\\odot}$$\n",
    "$$T\\approx67.2T_\\odot=3.9\\times10^5K$$"
   ]
  },
  {
   "cell_type": "markdown",
   "metadata": {},
   "source": [
    "Exec 3.6.d\n",
    "The mass difference between two sides of the reaction:\n",
    "$$\\Delta m = 2*12-23.985=0.015$$\n",
    "The fraction of converted mass:\n",
    "$$m_{conv}=0.015/24=6.25\\times10^{-4}$$"
   ]
  },
  {
   "cell_type": "markdown",
   "metadata": {},
   "source": [
    "Exec 3.6.e\n",
    "\n",
    "$L=10^7L_\\odot=3.846\\times10^{40}$erg/s\n",
    "\n",
    "$M=10M_\\odot=1.9885\\times10^{34}$g\n",
    "\n",
    "From $E=mc^2$\n",
    "\n",
    "$\\dot m=\\frac{L}{c^2}=4.273\\times10^{19}$g/s\n",
    "\n",
    "To lose 10% carbon, change of mass will be:\n",
    "\n",
    "$\\Delta m =0.1*6.25\\times10^{-4}=6.25\\times10^{-5}M=1.243\\times10^{30}$g\n",
    "\n",
    "$T=\\frac{\\Delta m}{\\dot m}=2.909\\times10^{10}$s$=922$yr"
   ]
  },
  {
   "cell_type": "code",
   "execution_count": null,
   "metadata": {},
   "outputs": [],
   "source": []
  }
 ],
 "metadata": {
  "kernelspec": {
   "display_name": "Python 3",
   "language": "python",
   "name": "python3"
  },
  "language_info": {
   "codemirror_mode": {
    "name": "ipython",
    "version": 3
   },
   "file_extension": ".py",
   "mimetype": "text/x-python",
   "name": "python",
   "nbconvert_exporter": "python",
   "pygments_lexer": "ipython3",
   "version": "3.6.5"
  }
 },
 "nbformat": 4,
 "nbformat_minor": 2
}
