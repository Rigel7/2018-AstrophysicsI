{
 "cells": [
  {
   "cell_type": "markdown",
   "metadata": {},
   "source": [
    "Prob 2.4.a\n",
    "\n",
    "Use 1 to denote the \"slower\" star, 2 to denote the \"faster\" star\n",
    "\n",
    "For the orbital speeds, we have:\n",
    "$$m_1\\frac{v_1^2}{r_1^2}=m_2\\frac{v_2^2}{r_2^2}$$\n",
    "For orbital radii, we have:\n",
    "$$\\frac{r_1}{r_2}=\\frac{m_2}{m_1}$$\n",
    "So:\n",
    "$$\\frac{m_1}{m_2}=\\sqrt[3]{\\frac{v_2^2}{v_1^2}}=\\sqrt[3]{4}$$"
   ]
  },
  {
   "cell_type": "markdown",
   "metadata": {},
   "source": [
    "Prob. 2.4.b\n",
    "\n",
    "Substitue into (2.42), we have:\n",
    "$$(m_1+m_2)\\sin^3{i}\\approx9.4M_{\\odot}$$\n",
    "From 2.4.a,\n",
    "$$m_1\\sin^3{i}\\approx3.7M_{\\odot},m_2\\sin^3{i}\\approx1.8M_{\\odot}$$"
   ]
  },
  {
   "cell_type": "markdown",
   "metadata": {},
   "source": [
    "Prob. 2.4.c\n",
    "\n",
    "Let $\\theta=i$, the probabilty density function of $\\theta$and$\\phi$ is:\n",
    "$$f(\\theta,\\phi)=\\frac{1}{4\\pi}$$\n",
    "The expectation of $\\sin^3{\\theta}$is:\n",
    "$$E(\\sin^3{\\theta})=\\unicode{x222F}\\sin^3{\\theta}\\frac{1}{4\\pi}\\sin{\\theta}\\,d\\theta\\,d\\phi=\\frac{3\\pi^2}{32}*2\\pi=\\frac{3\\pi}{16}\\approx0.59$$\n",
    "From 2.4.b,\n",
    "$$m_1\\approx6.3M_{\\odot},m_2\\approx3.1M_{\\odot}$$"
   ]
  },
  {
   "cell_type": "code",
   "execution_count": null,
   "metadata": {
    "collapsed": true
   },
   "outputs": [],
   "source": []
  }
 ],
 "metadata": {
  "kernelspec": {
   "display_name": "Python 3",
   "language": "python",
   "name": "python3"
  },
  "language_info": {
   "codemirror_mode": {
    "name": "ipython",
    "version": 3
   },
   "file_extension": ".py",
   "mimetype": "text/x-python",
   "name": "python",
   "nbconvert_exporter": "python",
   "pygments_lexer": "ipython3",
   "version": "3.6.1"
  }
 },
 "nbformat": 4,
 "nbformat_minor": 2
}
