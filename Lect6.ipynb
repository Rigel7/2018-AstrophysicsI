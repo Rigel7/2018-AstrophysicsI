{
 "cells": [
  {
   "cell_type": "markdown",
   "metadata": {},
   "source": [
    "Prob 5.4.a\n",
    "\n",
    "The electrostatic potential energy of a Proton-Electron pair:\n",
    "$$E_p=-\\frac{e^2}{4\\pi\\epsilon_0r}$$\n",
    "The total kinetic energy:\n",
    "$$E_k=2\\times\\frac{3}{2}kT=3kT$$\n",
    "When $\\left|E_k\\right|=\\left|E_p\\right|$,\n",
    "$$r\\sim \\frac{e^2}{kT}$$\n",
    "And the cross section is just $\\pi r^2$:\n",
    "$$\\sigma\\sim\\frac{\\pi e^4}{k^2T^2}$$\n",
    "For $T\\sim 10^4 K$ and $n=1 cm^{-3}$, the mean freee path \n",
    "$$l=\\frac{1}{n\\sigma}\\sim1\\times 10^{13}cm$$\n",
    "Note that we used electrostatic units here, where $e=4.803\\times 10^{−10} Fr$"
   ]
  },
  {
   "cell_type": "markdown",
   "metadata": {},
   "source": [
    "Prob 5.5.a\n",
    "\n",
    "From (5.65):\n",
    "$$T_1=\\frac{2(\\gamma-1)}{(\\gamma+1)^2} \\frac{\\bar m}{k}v_0^2$$\n",
    "Also, from (5.58}:\n",
    "$$\\epsilon=\\frac{1}{\\gamma-1}\\frac{kT}{\\bar m}$$\n",
    "So,\n",
    "$$\\epsilon_1= \\frac{1}{\\gamma-1}\\frac{k}{\\bar m} \\frac{2(\\gamma-1)}{(\\gamma+1)^2} \\frac{\\bar m}{k}v^2_0=\\frac{2}{(\\gamma+1)^2}v_0^2=\\frac{4}{(\\gamma+1)^2}E_{k,0}$$\n",
    "$\\gamma=5/3$,So:\n",
    "$$\\epsilon_1/E_{k,0}= 9/16$$"
   ]
  },
  {
   "cell_type": "markdown",
   "metadata": {
    "collapsed": true
   },
   "source": [
    "Prob 5.5.b\n",
    "\n",
    "From (5.59) and (5.60):\n",
    "$$\\frac{v_0}{v_1}=\\frac{\\rho_0}{\\rho_1}=\\frac{\\gamma+1}{\\gamma-1}$$\n",
    "So,\n",
    "$$E_{k,1}/E_{k,0}=\\frac{v_1^2}{v_0^2}=\\frac{(\\gamma-1)^2}{(\\gamma+1)^2}=\\frac{1}{16}$$"
   ]
  },
  {
   "cell_type": "markdown",
   "metadata": {},
   "source": [
    "Prob 5.5.c\n",
    "\n",
    "From (5.63):\n",
    "$$\\frac{v}{v_0}=1-\\frac{v_1}{v_0}$$\n",
    "So,\n",
    "$$E_{k,1}/E_{k,0}=(1-\\frac{v_1}{v_0})^2=\\frac{4}{(\\gamma+1)^2}=\\frac{9}{16}$$"
   ]
  },
  {
   "cell_type": "markdown",
   "metadata": {},
   "source": [
    "Prob 5.6.a\n",
    "\n",
    "The width of the rim equals the distance the electron travels during the synchroton cooling time. Combine(5.98):\n",
    "$$t_{cool}=\\frac{d}{v_1}=10yr\\frac{1}{\\gamma B^2}$$\n",
    "Also, $v_1=v_0/4=1.5\\times 10^8 cm/s$, $d=0.1 pc=3.1\\times 10^{17} cm$\n",
    "$$t_{cool}\\approx2.06\\times10^{9}s\\approx65.5 yr$$\n",
    "$$\\gamma B^2=\\frac{1}{6.55}\\ G^2$$\n",
    "From (5.93):\n",
    "$$\\nu_{sync}= 4.2 MHz \\cdot \\gamma^2B$$\n",
    "$$h\\nu_{sync}= 4 keV = 6.4\\times10^{-9} erg = 9.70\\times10^{11} MHz\\cdot h$$\n",
    "$$\\gamma^2B=2.31\\times10^{11}\\ G$$\n",
    "Combine two equations,\n",
    "$$B=6.64\\times10^{-5} G = 66.4\\ \\mu G$$\n",
    "$$\\gamma = 7.04\\times 10^7$$\n",
    "$$E_e = \\gamma m_0 c^2 = 57.66\\ erg = 3.60\\times10^{13}\\ eV$$"
   ]
  },
  {
   "cell_type": "markdown",
   "metadata": {},
   "source": [
    "Prob 5.6.b\n",
    "\n",
    "If magnetic field $B$ stays the same, then $\\gamma$ will be 1/2nd compared with the value from 4eV. So $t_cool$ will be twice. If $v_1$ stays the same, then $d$ will be twice.\n",
    "\n",
    "If the rim width were found to be independent of synchroton photon energies, then there might be other cooling mechanism that is independent of synchroton photon energies, and also much stronger than the synchroton cooling."
   ]
  },
  {
   "cell_type": "code",
   "execution_count": null,
   "metadata": {
    "collapsed": true
   },
   "outputs": [],
   "source": []
  }
 ],
 "metadata": {
  "kernelspec": {
   "display_name": "Python 3",
   "language": "python",
   "name": "python3"
  },
  "language_info": {
   "codemirror_mode": {
    "name": "ipython",
    "version": 3
   },
   "file_extension": ".py",
   "mimetype": "text/x-python",
   "name": "python",
   "nbconvert_exporter": "python",
   "pygments_lexer": "ipython3",
   "version": "3.6.1"
  }
 },
 "nbformat": 4,
 "nbformat_minor": 2
}
