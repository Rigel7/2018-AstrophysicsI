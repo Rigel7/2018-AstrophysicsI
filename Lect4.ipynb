{
 "cells": [
  {
   "cell_type": "markdown",
   "metadata": {},
   "source": [
    "Prob. 4.1.a\n",
    "\n",
    "From $$p_F=\\sqrt{2m_eE_F}$$\n",
    "$$E_F=\\frac{p_F^2}{2m_e}$$\n",
    "Also,\n",
    "$$n_e=\\frac{8\\pi}{3h^3}p_F^3$$\n",
    "$$p_F=\\frac{h}{2}\\sqrt[3]{\\frac{3n_e}{\\pi}}$$\n",
    "Substitute, we have:\n",
    "$$E_F=\\frac{h^2}{8m_e}\\sqrt[3]{\\frac{9n_e^2}{\\pi^2}}$$"
   ]
  },
  {
   "cell_type": "markdown",
   "metadata": {},
   "source": [
    "Prob. 4.1.b\n",
    "\n",
    "From (4.26):\n",
    "$$n_e=\\frac{Z}{A}\\frac{\\rho}{m_p}$$\n",
    "\n",
    "Take $Z/A\\approx 0.5$, $\\rho\\approx 10^6 g\\cdot cm^{-3}$, $m_p\\approx1.67\\times10^{-24}g$,\n",
    "$$n_e\\approx2.989\\times10^{29} cm^{-3}$$\n",
    "\n",
    "Substitute into the $E_F$ expression from (a),\n",
    "$$E_F\\approx 2.614\\times10^{-7} erg$$\n",
    "And the characteristic thermal energy:\n",
    "$$E_{th}=kT=1.38\\times10^{-9} erg$$\n",
    "$$\\frac{E_{th}}{E_F} = 5.28\\times10^{-3}$$"
   ]
  },
  {
   "cell_type": "markdown",
   "metadata": {},
   "source": [
    "Prob. 4.4.a\n",
    "\n",
    "From (3.22)\n",
    "$$\\bar P = -\\frac{1}{3} \\frac{E_{gr}}{V}$$\n",
    "Assume uniform density,\n",
    "$$E_{gr}=-\\frac{3}{5}\\frac{GM^2}{R}$$\n",
    "So,\n",
    "$$\\bar P = \\frac{3GM^2}{20\\pi R^4}$$"
   ]
  },
  {
   "cell_type": "markdown",
   "metadata": {},
   "source": [
    "Prob. 4.4.b\n",
    "\n",
    "As\n",
    "$$\\rho = \\frac{3M}{4\\pi R^3}$$\n",
    "Substitute into the expression from last question,\n",
    "$$\\bar P = \\frac{1}{3} \\frac{G\\rho M}{R}$$\n",
    "So,\n",
    "$$\\sqrt{P/\\rho}=\\sqrt{\\frac{GM}{3R}}\\sim v_s$$\n",
    "$$t\\sim \\frac{R}{v_s} \\sim \\sqrt{\\frac{3R^3}{GM}}$$\n",
    "\n",
    "Take $R=10^4 km$, $M=1.4M_\\odot$,\n",
    "$$t\\sim 4s$$"
   ]
  },
  {
   "cell_type": "markdown",
   "metadata": {},
   "source": [
    "Prob 4.4.c\n",
    "\n",
    "Mass converted to energy:\n",
    "$$\\Delta M = 0.001M = 2.785 \\times 10^{30} g$$\n",
    "Energy output of the explosion:\n",
    "$$E=\\Delta M c^2 = 2.5\\times10^{51} erg$$\n",
    "The gravitational energy:\n",
    "$$E_{gr}=-\\frac{3}{5}\\frac{GM^2}{R}=3.103\\times10^{50} erg < E$$\n",
    "So,the white dwarf is disrupted completely, without leaving any remnant."
   ]
  },
  {
   "cell_type": "markdown",
   "metadata": {},
   "source": [
    "Prob 4.4.d\n",
    "\n",
    "The total energy is:\n",
    "$$E=\\Delta M c^2 = 1.074×10^{−5} erg$$\n",
    "As the all the mass had been converted from carbon to nickel, then the number of nickel atoms is:\n",
    "$$N_{Ni}=\\frac{M}{m_{Ni}} = 2.996\\times 10^{55}$$\n",
    "If all the decay happen the same time, then the total energy is:\n",
    "$$E_{tot} = EN_{Ni} = 3.218\\times10^{50} erg$$\n",
    "The total characteristic time of the radioactive decay is:\n",
    "$$t=8.8 days + 111 days = 119.8 days = 1.035\\times10^7 s$$\n",
    "So, the luminosity is:\n",
    "$$L = E_{tot}/t = 3.109\\times10^{43}erg/s = 8.124×10^9 L_\\odot \\sim 10^{10} L_\\odot$$"
   ]
  },
  {
   "cell_type": "markdown",
   "metadata": {},
   "source": [
    "Prob 4.4.e\n",
    "\n",
    "The shell expands at a constant velosity, so the radius is:\n",
    "$$R=vt$$\n",
    "And the density:\n",
    "$$\\rho = \\frac{3M}{4\\pi R^3}$$\n",
    "The mean free path:\n",
    "$$l=\\frac{1}{\\kappa\\rho}=\\frac{4\\pi R^3}{3\\kappa M}$$\n",
    "The photon diffusion time :\n",
    "$$t_{d} = \\frac{R^2}{lc} = \\frac{3\\kappa M}{4\\pi Rc}$$\n",
    "Let $t=t_d$,\n",
    "$$t=\\sqrt{\\frac{3\\kappa M}{4\\pi cv}}=1.469\\times10^{6}s\\approx 17 days$$"
   ]
  },
  {
   "cell_type": "code",
   "execution_count": null,
   "metadata": {},
   "outputs": [],
   "source": []
  }
 ],
 "metadata": {
  "kernelspec": {
   "display_name": "Python 3",
   "language": "python",
   "name": "python3"
  },
  "language_info": {
   "codemirror_mode": {
    "name": "ipython",
    "version": 3
   },
   "file_extension": ".py",
   "mimetype": "text/x-python",
   "name": "python",
   "nbconvert_exporter": "python",
   "pygments_lexer": "ipython3",
   "version": "3.6.5"
  }
 },
 "nbformat": 4,
 "nbformat_minor": 2
}
