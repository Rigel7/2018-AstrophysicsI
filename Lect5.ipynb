{
 "cells": [
  {
   "cell_type": "markdown",
   "metadata": {},
   "source": [
    "Prob 4.5.a\n",
    "$$E_{rot}=\\frac{1}{2}I\\omega^2$$\n",
    "$$\\frac{dE_{rot}}{dt}=I\\omega\\frac{d\\omega}{dt}\\propto\\omega^6$$\n",
    "$$\\frac{d\\omega}{dt}\\propto\\omega^5$$\n",
    "$$\\frac{d\\omega}{dt}=C_1\\omega^5$$\n",
    "$$-\\frac{1}{4\\omega^4}=C_1 t+C_2$$\n",
    "When $t=0$,$\\omega=\\omega_0$, when $t=t_1$, $\\frac{d\\omega}{dt}=\\dot\\omega_1$,so $C_1=\\frac{\\dot\\omega_1}{\\omega_1^5}$, $C_2=-\\frac{1}{4\\omega_0^4}$.\n",
    "$$-\\frac{1}{4\\omega^4}=\\frac{\\dot\\omega_1}{\\omega_1^5}t-\\frac{1}{4\\omega_0^4}$$\n",
    "$$\\omega=(\\frac{1}{\\omega_0^4}-\\frac{4\\dot\\omega_1}{\\omega_1}t)^{-1/4}$$"
   ]
  },
  {
   "cell_type": "markdown",
   "metadata": {},
   "source": [
    "Prob 4.5.b\n",
    "$$t=\\frac{\\omega_1^5}{4\\dot\\omega_1}(\\omega_0^{-4}-\\omega^{-4})$$\n",
    "Let $\\omega=\\omega_1=190 s^{-1}$, $\\dot\\omega_1=-2.4\\times10^{-9}s^{-2}$,$\\omega_0=+\\infty$\n",
    "$$t=1.98\\times10^{10}s=627 yr$$\n",
    "Which is shorter than the observed age. So gravitational radiation is not a viable braking mechanism for the Crab pulsar."
   ]
  },
  {
   "cell_type": "markdown",
   "metadata": {},
   "source": [
    "Prob. 5.2.a\n",
    "\n",
    "The probrobility density function for mass distribution:\n",
    "$$f(M)=C_1M^{-2.35}$$\n",
    "$$\\int_{0.4}^{100}f(M)dM=1$$\n",
    "$$C_1=\\frac{1}{2.55}$$\n",
    "So,\n",
    "$$P(M>8_{\\odot})=\\int_{8}^{100}f(M)dM=\\int_{8}^{100}\\frac{1}{2.55}M^{-2.35}dM=0.017$$\n",
    "The total number of stars:\n",
    "$$n(M>8M_{\\odot})=0.017\\times10^{11}=1.7\\times10^{9}$$\n",
    "The typical remenent mass is $1.4M_{\\odot}$, so mass in remenent is:\n",
    "$$2.38\\times10^{9}M_{\\odot}$$"
   ]
  },
  {
   "cell_type": "markdown",
   "metadata": {},
   "source": [
    "Prob. 5.2.b\n",
    "\n",
    "Total mass of iron:\n",
    "$$M_{Fe}=n(M>8M_{\\odot})*0.05M_{\\odot}=8.5\\times10^{7}M_{\\odot}$$\n",
    "The total mass of galaxy $M_{galaxy}=5\\times10^{10}M_{\\odot}$, so mean stellar abundunce of iron is:\n",
    "$$Z_{Fe}=\\frac{M_{Fe}}{M_{galaxy}}=0.0017\\approx Z_{Fe,\\odot}$$\n",
    "So, the Sun is formed from pre-enriched interstellar material."
   ]
  },
  {
   "cell_type": "markdown",
   "metadata": {},
   "source": [
    "Prob. 5.2.c\n",
    "The process of \"ramdom draw\" of binary stars and their masses are indenpendent,so:\n",
    "$$P(M_1>8M_{\\odot},M_2>8M_{\\odot}|binary)=\\times P(M_1>8M_{\\odot}|binary)\\times P(M_2>8M_{\\odot})=0.017^2=0.000289$$\n",
    "And the number of such binary systems:\n",
    "$$n(binary,M_1>8M_{\\odot},M_2>8M_{\\odot})=P(M_1>8M_{\\odot},M_2>8M_{\\odot}|binary)\\times n(binary\\ system)=0.000289\\times0.5\\times0.5\\times10^{11}=7.25\\times10^6$$"
   ]
  },
  {
   "cell_type": "markdown",
   "metadata": {},
   "source": [
    "Prob 5.2.d\n",
    "The binding energy for the binary stars:\n",
    "$$E_{gr}=\\frac{G(8M_{\\odot})^2}{r}$$\n",
    "The total kinetic energy of the two neutron stars:\n",
    "$$E_k=1.4M_{\\odot}v^2$$\n",
    "From $E_{gr}=E_k$,\n",
    "$$r_{max}=\\frac{64GM_{\\odot}}{1.4v^2}=2.43\\times10^{12}cm=7.867\\times10^{-7}pc$$"
   ]
  },
  {
   "cell_type": "markdown",
   "metadata": {},
   "source": [
    "Prob 5.2.e\n",
    "$$p(r<r_{max})=\\frac{r_{max}-0}{0.01pc-0}=7.861\\times10^{-5}$$\n",
    "$$n(r<r_{max})=p(r<r_{max})*n(binary,M_1>8M_{\\odot},M_2>8M_{\\odot})=570$$"
   ]
  },
  {
   "cell_type": "code",
   "execution_count": null,
   "metadata": {
    "collapsed": true
   },
   "outputs": [],
   "source": []
  }
 ],
 "metadata": {
  "kernelspec": {
   "display_name": "Python 3",
   "language": "python",
   "name": "python3"
  },
  "language_info": {
   "codemirror_mode": {
    "name": "ipython",
    "version": 3
   },
   "file_extension": ".py",
   "mimetype": "text/x-python",
   "name": "python",
   "nbconvert_exporter": "python",
   "pygments_lexer": "ipython3",
   "version": "3.6.1"
  }
 },
 "nbformat": 4,
 "nbformat_minor": 2
}
