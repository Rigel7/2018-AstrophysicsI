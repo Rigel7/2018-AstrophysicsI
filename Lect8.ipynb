{
 "cells": [
  {
   "cell_type": "markdown",
   "metadata": {},
   "source": [
    "Prob 7.4\n",
    "\n",
    "The density of stars on galactic disk:\n",
    "$$n_{disk}=\\frac{5\\times10^{10}}{0.5}\\frac{1}{\\pi r^2 2h}=1.6695\\times10^{-56} cm^{-3}$$\n",
    "Also,\n",
    "$$l=D_{ol}=D_{ls}=\\frac{1}{2}r=4kpc=1.24\\times10^{22}cm$$\n",
    "Then from (6.16),\n",
    "$$\\theta_E=(\\frac{4Gm}{c^2}\\frac{D_{ls}}{D_{ol}D_{os}})^{1/2}$$\n",
    "$$\\sigma=\\pi(\\theta_E D_{ol})^2=\\pi\\frac{4Gm}{c^2}\\frac{D_{ls}D_{ol}}{D_{os}}=\\pi\\frac{Gm}{c^2}r$$\n",
    "$$N=n_{disk}l\\sigma=n_{disk}\\pi\\frac{Gm}{2c^2}r^2=1.2\\times10^{-6}$$"
   ]
  },
  {
   "cell_type": "markdown",
   "metadata": {
    "collapsed": true
   },
   "source": [
    "Prob 8.3.a\n",
    "\n",
    "$$N=n_eD\\sigma_T=0.001$$\n",
    "Where $D=2R$\n",
    "$$M_{ion}=0.15\\times M_{cluster}=3\\times10^{13}M_{\\odot}=6\\times10^{46}g$$\n",
    "$$n_e=\\frac{M_{ion}}{M_H} \\frac{1}{\\frac{4}{3}\\pi R^3}$$\n",
    "Solve, we get:\n",
    "$$R=\\sqrt{\\frac{3M_{ion}}{2M_H}\\frac{\\sigma_T}{\\pi N}}=3.36\\times10^{24}cm=1.08 Mpc$$\n",
    "$$D=2R=2.17 Mpc$$"
   ]
  },
  {
   "cell_type": "markdown",
   "metadata": {},
   "source": [
    "Prob 8.3.b\n",
    "\n",
    "$$\\theta=1^{\\circ}=0.01745 Rad$$\n",
    "The distance:\n",
    "$$l=\\frac{D}{\\theta}=3.85\\times10^{26}cm=124Mpc$$"
   ]
  },
  {
   "cell_type": "markdown",
   "metadata": {},
   "source": [
    "Prob 8.3.c\n",
    "\n",
    "$$H_0=\\frac{v_{rec}}{l}=67.6 km\\cdot s^{-1} Mpc^{-1}$$"
   ]
  },
  {
   "cell_type": "code",
   "execution_count": null,
   "metadata": {
    "collapsed": true
   },
   "outputs": [],
   "source": []
  }
 ],
 "metadata": {
  "kernelspec": {
   "display_name": "Python 3",
   "language": "python",
   "name": "python3"
  },
  "language_info": {
   "codemirror_mode": {
    "name": "ipython",
    "version": 3
   },
   "file_extension": ".py",
   "mimetype": "text/x-python",
   "name": "python",
   "nbconvert_exporter": "python",
   "pygments_lexer": "ipython3",
   "version": "3.6.1"
  }
 },
 "nbformat": 4,
 "nbformat_minor": 2
}
