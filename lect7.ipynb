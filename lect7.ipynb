{
 "cells": [
  {
   "cell_type": "markdown",
   "metadata": {},
   "source": [
    "Prob. 6.1.a\n",
    "<img src=\"prob61a.png\">\n",
    "Looking at this graph, it can be obtained from basic trigonometry that:\n",
    "$$\\cos i =br_*/a$$\n",
    "<img src=\"prob61a2.png\">\n",
    "Again look at the graph. $r_p$is the radius of the planet and $l/2$ is half of the distance the planet needs to travel during the transit. As the radius of the star is much greater than that of the planet, we can take the approximation:\n",
    "$$r_*+r_p \\sim r_*$$\n",
    "Then, apply Pythagorean theorem, we get:\n",
    "$$(l/2)^2+(br_*)^2=r_*^2$$\n",
    "$$l=2r_*\\sqrt{1-b^2}$$\n",
    "The orbital velosity of the planet in regard to orbital period\n",
    "$$v=\\frac{2\\pi a}{\\tau}$$\n",
    "So, the duration of the transit is:\n",
    "$$t_{dur}=\\frac{l}{v}=\\frac{r_*\\tau}{\\pi a}\\sqrt{1-b^2}$$"
   ]
  },
  {
   "cell_type": "markdown",
   "metadata": {},
   "source": [
    "Prob 6.1.b\n",
    "\n",
    "Again look at the first graph in 6.1.a. For transits where the planet's limb glazes with the star's limb, we have:\n",
    "$$br_*=r_*+r_p$$\n",
    "So,\n",
    "$$\\cos i=\\frac{r_*+r_p}{a}$$\n",
    "As the planet will sweep over the whole sky as it reloves around the star. So, for the observer, $\\phi$ is arbitary, and $\\cos(\\frac{\\pi}{2}-\\theta)=\\sin\\theta=\\cos i=\\frac{r_*+r_p}{a}$.\n",
    "\n",
    "Here,we use $c$ to denote $\\cos i$.\n",
    "\n",
    "So, the probability:\n",
    "$$P_{tran}=\\int^{2\\pi}_{0}\\int^{\\sin^{-1}c}_{-\\sin^{-1}c}\\sin\\theta d\\phi d\\theta /(4\\pi)=\\frac{4\\pi c}{4\\pi}=\\frac{r_*+r_p}{a}$$"
   ]
  },
  {
   "cell_type": "markdown",
   "metadata": {},
   "source": [
    "Prob 6.1.c\n",
    "\n",
    "By mesuring the time inverval between minima, we can obtain the orbital peroid $\\tau\\approx 4.75 days$.\n",
    "And,\n",
    "$$\\frac{M_*G}{a^2}=\\frac{4\\pi^2}{\\tau^2}a$$\n",
    "$$a=\\sqrt[3]{\\frac{M_*G\\tau^2}{4\\pi^2}}\\approx8.3\\times10^{11} cm\\approx0.055 AU$$\n",
    "The depth of transit $\\Delta f/f$ is about $-0.000275$, And\n",
    "$$\\frac{\\Delta f}{f}=\\left(\\frac{r_p}{r_*}\\right)^2$$\n",
    "So,\n",
    "$$r_p=0.0165r_*=0.0153r_{\\odot}=1.068\\times10^9 cm=1.669r_{\\oplus}$$\n",
    "The duration of transit is about 0.1 day. From 6.1.a,\n",
    "$$b=\\sqrt{1-\\left(\\frac{t_{dur}\\pi a}{r_*\\tau}\\right)^2}=0.52$$\n",
    "$$i=\\cos^{-1}\\frac{br_*}{a}=87.7^\\circ$$\n",
    "From (6.1), $|v_{1,obs}|=160 cm\\cdot s^{-1}$\n",
    "$$M_p=\\left(\\frac{\\tau}{2\\pi G}\\right)^{1/3}|v_{1,obs}|\\frac{M_1^{2/3}}{\\sin i}=2.37\\times 10^{28}=3.94 M_\\oplus$$\n",
    "So,\n",
    "$$\\rho_p=\\frac{M_p}{4/3 \\pi r_p^3}=4.64 g\\cdot cm^{-3}$$\n",
    "The luminosity of the star:\n",
    "$$L_*=4\\pi r_*^2 \\sigma T_E^4$$\n",
    "The portion of energy the planet absorbs as regard of stellar luminosity:\n",
    "$$E_p=\\frac{\\pi r_p^2}{4\\pi a^2}(1-A)L_*$$\n",
    "The luminosity of the planet:\n",
    "$$L_p=4\\pi r_p^2 \\sigma T_p^4$$\n",
    "And $L_p=E_p$,\n",
    "$$T_p=T_E\\sqrt[4]{\\frac{1-A}{4a^2}r^2_*}=1027 K$$"
   ]
  },
  {
   "cell_type": "markdown",
   "metadata": {},
   "source": [
    "Prob 6.3\n",
    "\n",
    "From (6.16):\n",
    "$$\\theta_E=\\left(\\frac{4GM}{c^2}\\frac{D_{ls}}{D_{ol}D_{os}}\\right)^{1/2}$$\n",
    "$D_{ls}=D_{ol}=d$,$D_{os}=2d$\n",
    "So,\n",
    "$$\\theta_E=\\left(\\frac{2GM}{dc^2}\\right)^{1/2}$$\n",
    "The angular radius of the sun:\n",
    "$$\\theta_\\odot=\\frac{r_\\odot}{d}$$\n",
    "If $\\theta_E=\\theta_\\odot$\n",
    "$$d=\\frac{c^2r_\\odot^2}{2GM}=1.64\\times10^{16}cm=0.0053pc$$"
   ]
  },
  {
   "cell_type": "code",
   "execution_count": null,
   "metadata": {
    "collapsed": true
   },
   "outputs": [],
   "source": []
  }
 ],
 "metadata": {
  "kernelspec": {
   "display_name": "Python 3",
   "language": "python",
   "name": "python3"
  },
  "language_info": {
   "codemirror_mode": {
    "name": "ipython",
    "version": 3
   },
   "file_extension": ".py",
   "mimetype": "text/x-python",
   "name": "python",
   "nbconvert_exporter": "python",
   "pygments_lexer": "ipython3",
   "version": "3.6.1"
  }
 },
 "nbformat": 4,
 "nbformat_minor": 2
}
